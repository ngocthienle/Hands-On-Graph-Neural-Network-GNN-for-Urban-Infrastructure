# Disaster Response and Routing with GNN
