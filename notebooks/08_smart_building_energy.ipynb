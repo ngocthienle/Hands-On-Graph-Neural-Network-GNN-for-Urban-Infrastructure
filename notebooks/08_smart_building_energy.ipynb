# Smart Building Energy Optimization with GNN
